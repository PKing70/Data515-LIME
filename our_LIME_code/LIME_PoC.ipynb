{
 "cells": [
  {
   "cell_type": "code",
   "execution_count": 1,
   "metadata": {},
   "outputs": [
    {
     "name": "stdout",
     "output_type": "stream",
     "text": [
      "Feature\t\t\tMean\t\t\tStd. Dev.\n",
      "sepal length (cm) \t 5.843333333333335 \t 0.8253012917851409\n",
      "sepal width (cm) \t 3.057333333333334 \t 0.43441096773549437\n",
      "petal length (cm) \t 3.7580000000000027 \t 1.7594040657753032\n",
      "petal width (cm) \t 1.199333333333334 \t 0.7596926279021594\n"
     ]
    }
   ],
   "source": [
    "import numpy as np\n",
    "import pandas as pd\n",
    "import graphviz\n",
    "import matplotlib\n",
    "import matplotlib.pyplot as plt\n",
    "from sklearn import datasets\n",
    "from sklearn import preprocessing\n",
    "from sklearn import tree\n",
    "from sklearn import linear_model\n",
    "\n",
    "%matplotlib inline\n",
    "\n",
    "# Reading the contents of the iris dataset for testing purposes.\n",
    "data_set = datasets.load_iris()\n",
    "np.set_printoptions(threshold=np.inf)\n",
    "# full_data = np.column_stack((data_set.data, data_set.target))\n",
    "\n",
    "# Number of perturbed samples to be generated.\n",
    "n = 10000\n",
    "# Number of bins for the histograms of continous attributes.\n",
    "num_bins = 25"
   ]
  },
  {
   "cell_type": "code",
   "execution_count": 11,
   "metadata": {},
   "outputs": [
    {
     "name": "stdout",
     "output_type": "stream",
     "text": [
      "Feature\t\t\tMean\t\t\tStd. Dev.\n",
      "sepal length (cm) \t 5.843333333333335 \t 0.8253012917851409\n",
      "sepal width (cm) \t 3.057333333333334 \t 0.43441096773549437\n",
      "petal length (cm) \t 3.7580000000000027 \t 1.7594040657753032\n",
      "petal width (cm) \t 1.199333333333334 \t 0.7596926279021594\n"
     ]
    }
   ],
   "source": [
    "# Compute means and standard deviations of all features for\n",
    "# later use.\n",
    "means_data = np.mean(data_set.data, axis=0)\n",
    "std_dev_data = np.std(data_set.data, axis=0)\n",
    "print(\"Feature\\t\\t\\tMean\\t\\t\\tStd. Dev.\")\n",
    "for j in range(0, len(data_set.feature_names)):\n",
    "    print(data_set.feature_names[j],\"\\t\", means_data[j], \"\\t\", std_dev_data[j])"
   ]
  },
  {
   "cell_type": "code",
   "execution_count": 2,
   "metadata": {},
   "outputs": [],
   "source": [
    "# Fitting a decision tree model to the iris dataset.\n",
    "data_norm = preprocessing.scale(data_set.data)\n",
    "clf = tree.DecisionTreeClassifier()\n",
    "clf = clf.fit(data_norm, data_set.target)\n",
    "dot_data = tree.export_graphviz(clf, out_file=None,\n",
    "                                feature_names=data_set.feature_names,\n",
    "                                class_names=data_set.target_names,\n",
    "                                filled=True, rounded=True,\n",
    "                                special_characters=True)\n",
    "graph = graphviz.Source(dot_data)\n",
    "# graph.render(\"iris\")\n",
    "# graph"
   ]
  },
  {
   "cell_type": "code",
   "execution_count": 3,
   "metadata": {},
   "outputs": [],
   "source": [
    "####################################################################\n",
    "# Functions used to generate perturbed samples and compute\n",
    "# LIME weights.\n",
    "\n",
    "\n",
    "def discrete_bucketize(np_vector):\n",
    "    \"\"\"\n",
    "    Estimates histogram buckets for a discrete valued dataset.\n",
    "\n",
    "    Input is the vector, np_vector, of discrete values that is to\n",
    "    be bucketized.\n",
    "    Outputs are two vectors. The first, named values, contains the\n",
    "    normalized version of the unique values found in np_vector.\n",
    "    It is normalized to mean zero and unit variance.\n",
    "    The second output vector, named multinom_rand, contains the\n",
    "    multinomial probability distribution for the elements of the\n",
    "    values vector.\n",
    "    \"\"\"\n",
    "\n",
    "    values, freqs = np.unique(np_vector, return_counts=True)\n",
    "    freqs = freqs/np.sum(freqs)\n",
    "    values = values.astype(float)\n",
    "    values = preprocessing.scale(values)\n",
    "    multinom_rand = np.random.multinomial(n, freqs, 1)[0]\n",
    "    return(values, multinom_rand)\n",
    "\n",
    "\n",
    "def continuous_bucketize(num_bins, np_vector):\n",
    "    \"\"\"\n",
    "    Estimates histogram buckets for a continous valued dataset.\n",
    "\n",
    "    Inputs are the desired number of bins for the histogram,\n",
    "    num_bins, and np_vector, the vector of continous values that are\n",
    "    to be bucketized.\n",
    "    Outputs are two vectors. The first, named h_bins, is a vector of\n",
    "    length num_bins + 1 that lists the values corresponding to the\n",
    "    bin edges in the histogram, after they are normalized to mean\n",
    "    zero and unit variance. The second output vector, named freqs,\n",
    "    contains the probabilities that a randomly generated element will\n",
    "    belong in each of the histogram's bins.\n",
    "    \"\"\"\n",
    "\n",
    "    np_vector = preprocessing.scale(np_vector)\n",
    "    freqs, h_bins = np.histogramdd(np_vector, bins=num_bins)\n",
    "    freqs = freqs/np.sum(freqs)\n",
    "    h_bins = np.asarray(h_bins[0])\n",
    "    return(h_bins, freqs)\n",
    "\n",
    "\n",
    "def discrete_rand_samples(n, values, multinom_rand):\n",
    "    \"\"\"\n",
    "    Generates random values with multinomial probability distribution.\n",
    "\n",
    "    Inputs are n, the number of random numbers that are to be\n",
    "    generated, the vector values that lists all possible values that\n",
    "    n can have, and multinom_rand which contains the multinomial\n",
    "    probability distribution that corresponds to each element in the\n",
    "    values vector. Output is the vector rand that contains n numbers\n",
    "    chosen at random, with replacement, from the elements in the\n",
    "    values vector, following the multinomial probability distribution\n",
    "    that was provided.\n",
    "    \"\"\"\n",
    "\n",
    "    rand = np.zeros(n)\n",
    "    k = 0\n",
    "    for j in range(0, len(values)):\n",
    "        rand[k:k+multinom_rand[j]] = values[j]\n",
    "        k = k + multinom_rand[j]\n",
    "    return(rand)\n",
    "\n",
    "\n",
    "def continuous_rand_samples(n, bins, freqs):\n",
    "    \"\"\"\n",
    "    Generates random values with distribution provided as input.\n",
    "\n",
    "    Inputs are n, the number of random numbers that are to be\n",
    "    generated, the vector bins that lists the values the bin edges\n",
    "    of the histogram, and the vector freqs that lists the probability\n",
    "    that a value that is randomly generated will be contained by the\n",
    "    corresponding histogram bin. Each random number that is generated\n",
    "    is chosen from within a uniform probability distribution with end\n",
    "    values equal to those of a given histogram bin. Output is the\n",
    "    vector tot_samples that contains n random elements chosen as\n",
    "    described above.\n",
    "    \"\"\"\n",
    "\n",
    "    tot_samples = np.zeros(1)\n",
    "    samples_bins = np.random.multinomial(n, freqs, 1)\n",
    "    for j in range(0, len(freqs)):\n",
    "        samples = np.random.uniform(bins[j], bins[j+1], samples_bins[0][j])\n",
    "        tot_samples = np.hstack((tot_samples, samples))\n",
    "    tot_samples = tot_samples[1:, ]\n",
    "    return(tot_samples)\n",
    "\n",
    "\n",
    "def lime_model(x, x_class, perturbed_samples, class_perturb_samples):\n",
    "    \"\"\"\n",
    "    Computes LIME linear model coefficients.\n",
    "    \n",
    "    Inputs are: \n",
    "    - x, the instance from the original ML model we are trying to explain.\n",
    "    - x_class, the classification assigned to x by the original ML model.\n",
    "    - perturbed_samples which are the random perturbations of inputs \n",
    "      that were generated.\n",
    "    - class_perturb_samples which are the classifications assigned to\n",
    "      each of the perturbations by the original ML model.\n",
    "    Outputs are the coefficients for the LIME linear model, reg.coef_,\n",
    "    and the LIME weights, l_weights.\n",
    "    \"\"\"\n",
    "        \n",
    "    # Compute LIME weights.\n",
    "    sigma = np.var(np.sum((perturbed_samples - x)**2, axis=1))\n",
    "    l_weights = np.exp(-np.sum((perturbed_samples - x)**2, axis=1) / sigma)\n",
    "\n",
    "    # We identify the correct class for the instance we wish to \n",
    "    # interpret, make that class one and all others become class zero.\n",
    "    lime_class = class_perturb_samples == x_class\n",
    "    lime_class = lime_class.astype(int)\n",
    "\n",
    "    # Multiply the LIME weights by the perturbed samples and the original\n",
    "    # ML model's output.\n",
    "    perturb_weighted = (perturbed_samples.T * l_weights).T\n",
    "    class_weighted = class_perturb_samples * l_weights\n",
    "\n",
    "    # Using the perturbed samples and the above classification, we fit\n",
    "    # the LIME linear model using LASSO.\n",
    "    # reg = linear_model.LassoCV(eps=0.001, n_alphas=100, cv=5)\n",
    "    reg = linear_model.Lasso(alpha=0.01)\n",
    "    reg.fit(perturb_weighted, class_weighted)\n",
    "    return(reg.coef_, reg.intercept_, l_weights)\n",
    "#####################################################################"
   ]
  },
  {
   "cell_type": "code",
   "execution_count": 4,
   "metadata": {},
   "outputs": [
    {
     "data": {
      "image/png": "[encoded data removed]",
      "text/plain": [
       "<Figure size 432x288 with 2 Axes>"
      ]
     },
     "metadata": {
      "needs_background": "light"
     },
     "output_type": "display_data"
    }
   ],
   "source": [
    "# This is just a test of the discrete bucketizing and random sample\n",
    "# generation. Not really necessary for the example.\n",
    "\n",
    "# Bucketizing discrete values from classifications of the original\n",
    "# data, and generating a random sample of size n.\n",
    "values, multinom_rand = discrete_bucketize(data_set.target)\n",
    "output = discrete_rand_samples(n, values, multinom_rand)\n",
    "values = preprocessing.scale(data_set.target.astype(float))\n",
    "\n",
    "# Visually comparing the normalized distribution of classifications\n",
    "# for the generated random sample.\n",
    "fig, ax = plt.subplots(1, 2)\n",
    "ax[0].hist(values, bins=5, color=\"k\")\n",
    "ax[1].hist(output, bins=5, color=\"c\")\n",
    "plt.show()"
   ]
  },
  {
   "cell_type": "code",
   "execution_count": 5,
   "metadata": {},
   "outputs": [],
   "source": [
    "# Bucketizing each attribute from the Iris dataset and \n",
    "# generating perturbed samples with the same distribution.\n",
    "perturbed_samples = np.zeros(n)\n",
    "for j in range(0, data_set.data.shape[1]):\n",
    "    array = data_set.data[:, j]\n",
    "    h_bins, freqs = continuous_bucketize(num_bins, array)\n",
    "    output = continuous_rand_samples(n, h_bins, freqs)\n",
    "    perturbed_samples = np.vstack((perturbed_samples, output))\n",
    "perturbed_samples = np.transpose(perturbed_samples[1:, ])"
   ]
  },
  {
   "cell_type": "code",
   "execution_count": 6,
   "metadata": {},
   "outputs": [
    {
     "name": "stdout",
     "output_type": "stream",
     "text": [
      "\n",
      "Iris dataset:\n",
      "\n"
     ]
    },
    {
     "data": {
      "image/png": "[encoded data removed]",
      "text/plain": [
       "<Figure size 432x288 with 4 Axes>"
      ]
     },
     "metadata": {
      "needs_background": "light"
     },
     "output_type": "display_data"
    },
    {
     "name": "stdout",
     "output_type": "stream",
     "text": [
      "\n",
      "Perturbed samples:\n",
      "\n"
     ]
    },
    {
     "data": {
      "image/png": "[encoded data removed]",
      "text/plain": [
       "<Figure size 432x288 with 4 Axes>"
      ]
     },
     "metadata": {
      "needs_background": "light"
     },
     "output_type": "display_data"
    }
   ],
   "source": [
    "# Plotting the histograms for the normalized Iris dataset\n",
    "# and for the perturbed samples to make sure they have\n",
    "# similar distributions.\n",
    "\n",
    "# Normalized iris dataset\n",
    "print(\"\\nIris dataset:\\n\")\n",
    "fig, ax = plt.subplots(2, 2)\n",
    "ax[0, 0].hist(data_norm[:, 0], bins=num_bins)\n",
    "ax[0, 1].hist(data_norm[:, 1], bins=num_bins, color=\"g\")\n",
    "ax[1, 0].hist(data_norm[:, 2], bins=num_bins, color=\"b\")\n",
    "ax[1, 1].hist(data_norm[:, 3], bins=num_bins, color=\"r\")\n",
    "plt.show()\n",
    "\n",
    "# Perturbed samples\n",
    "print(\"\\nPerturbed samples:\\n\")\n",
    "fig, ax = plt.subplots(2, 2)\n",
    "ax[0, 0].hist(perturbed_samples[:, 0], bins=num_bins)\n",
    "ax[0, 1].hist(perturbed_samples[:, 1], bins=num_bins, color=\"g\")\n",
    "ax[1, 0].hist(perturbed_samples[:, 2], bins=num_bins, color=\"b\")\n",
    "ax[1, 1].hist(perturbed_samples[:, 3], bins=num_bins, color=\"r\")\n",
    "plt.show()"
   ]
  },
  {
   "cell_type": "code",
   "execution_count": 7,
   "metadata": {},
   "outputs": [
    {
     "data": {
      "image/png": "[encoded data removed]",
      "text/plain": [
       "<Figure size 432x288 with 2 Axes>"
      ]
     },
     "metadata": {
      "needs_background": "light"
     },
     "output_type": "display_data"
    }
   ],
   "source": [
    "# Once perturbed samples have been generated, the line of code below\n",
    "# uses the decision tree we fitted earlier, to get a predicted\n",
    "# classification for each of our perturbed samples.\n",
    "class_perturb_samples = clf.predict(perturbed_samples)\n",
    "\n",
    "# Plotting histograms of classes for Iris dataset and perturbed\n",
    "# samples, after classification by the decision tree.\n",
    "fig, ax = plt.subplots(1, 2)\n",
    "ax[0].hist(data_set.target, bins=5, color=\"k\")\n",
    "ax[1].hist(class_perturb_samples, bins=5, color=\"c\")\n",
    "plt.show()"
   ]
  },
  {
   "cell_type": "code",
   "execution_count": 86,
   "metadata": {},
   "outputs": [],
   "source": [
    "# From the training dataset for the ML model, we select an input\n",
    "# instance at random so that we can then use LIME to explain its\n",
    "# output. Perturbed samples that were classifed the same as\n",
    "# selected instance are True (1), those that were not are\n",
    "# classified as False (0)\n",
    "inst_num = np.round(np.random.uniform(0, data_set.data.shape[0], 1))\n",
    "inst_num = inst_num[0].astype(int)\n",
    "x = data_norm[inst_num, :]\n",
    "x_class = data_set.target[inst_num]"
   ]
  },
  {
   "cell_type": "code",
   "execution_count": 87,
   "metadata": {},
   "outputs": [],
   "source": [
    "# We now fit the LIME linear model to get the coefficients for\n",
    "# the interpretation.\n",
    "lime_beta, lime_intercept, lime_weights = lime_model(x, x_class,\n",
    "                                                     perturbed_samples, \n",
    "                                                     class_perturb_samples)"
   ]
  },
  {
   "cell_type": "code",
   "execution_count": 88,
   "metadata": {},
   "outputs": [
    {
     "name": "stdout",
     "output_type": "stream",
     "text": [
      "Instance to be interpreted:\n",
      "\n",
      "Feature:  sepal length (cm) \tvalue:  6.3 \tnormalized value:  0.5533332750260058\n",
      "Feature:  sepal width (cm) \tvalue:  2.5 \tnormalized value:  -1.282963310614858\n",
      "Feature:  petal length (cm) \tvalue:  5.0 \tnormalized value:  0.7059208422669494\n",
      "Feature:  petal width (cm) \tvalue:  1.9 \tnormalized value:  0.9223028379273737\n",
      "Intercept:  0.6884219148939289\n",
      "Classification:  virginica 2\n",
      "\n",
      "Significant coefficients from LIME adjusted linear model:\n",
      "Feature:  petal length (cm) \tCoefficient:  0.5441025845910602\n",
      "Feature:  petal width (cm) \tCoefficient:  0.3460789163033892\n"
     ]
    }
   ],
   "source": [
    "# Print the results.\n",
    "print(\"Instance to be interpreted:\\n\")\n",
    "for j in range(0, len(lime_beta)):\n",
    "    print(\"Feature: \",data_set.feature_names[j],\"\\tvalue: \",\n",
    "          data_set.data[inst_num, j], \"\\tnormalized value: \",\n",
    "          data_norm[inst_num, j])\n",
    "print(\"Intercept: \", lime_intercept)\n",
    "print(\"Classification: \", data_set.target_names[data_set.target[inst_num]],\n",
    "      data_set.target[inst_num])\n",
    "print(\"\\nSignificant coefficients from LIME adjusted linear model:\")\n",
    "for j in range(0, len(lime_beta)):\n",
    "    if(lime_beta[j] != 0):\n",
    "        print(\"Feature: \", data_set.feature_names[j], \"\\tCoefficient: \",\n",
    "              lime_beta[j])"
   ]
  },
  {
   "cell_type": "code",
   "execution_count": null,
   "metadata": {},
   "outputs": [],
   "source": [
    "full_data = np.column_stack((perturbed_samples, class_perturb_samples))\n",
    "in_class_data = full_data[full_data[:, 4] == data_set.target[inst_num]]\n",
    "out_class_data = full_data[full_data[:, 4] != data_set.target[inst_num]]"
   ]
  },
  {
   "cell_type": "code",
   "execution_count": 89,
   "metadata": {},
   "outputs": [
    {
     "data": {
      "text/plain": [
       "<matplotlib.legend.Legend at 0x2220d464748>"
      ]
     },
     "execution_count": 89,
     "metadata": {},
     "output_type": "execute_result"
    },
    {
     "data": {
      "image/png": "[encoded data removed]",
      "text/plain": [
       "<Figure size 720x720 with 1 Axes>"
      ]
     },
     "metadata": {
      "needs_background": "light"
     },
     "output_type": "display_data"
    }
   ],
   "source": [
    "plt.rcParams['figure.figsize'] = [10.0, 10.0]\n",
    "fig = plt.figure()\n",
    "ax = fig.add_subplot(1,1,1)\n",
    "\n",
    "ax.scatter(in_class_data[:, 2], in_class_data[:, 3], marker='x', c='b', label='In class')\n",
    "ax.scatter(out_class_data[:, 2], out_class_data[:, 3], marker='+', c='c', label='Out of class')\n",
    "ax.scatter(data_norm[inst_num, 2], data_norm[inst_num, 3], marker='o', c='r', label='Instance')\n",
    "\n",
    "ticksx = ax.set_xticks([-2, -1.5, -1, -1.5, -0.5, 0, 0.5, 1, 1.5, 2])\n",
    "ticksy = ax.set_yticks([-2, -1.5, -1, -1.5, -0.5, 0, 0.5, 1, 1.5, 2])\n",
    "plt.grid(b=True, which='both', color='0.85', linestyle='-')\n",
    "ax.set_xlabel('Petal Length')\n",
    "ax.set_ylabel('Petal Width')\n",
    "plt.legend(loc='upper left')"
   ]
  },
  {
   "cell_type": "code",
   "execution_count": 90,
   "metadata": {},
   "outputs": [],
   "source": [
    "in_class_reg = lime_beta[2]*in_class_data[:,2] + lime_beta[3]*in_class_data[:, 3] + lime_intercept\n",
    "out_class_reg = lime_beta[2]*out_class_data[:,2] + lime_beta[3]*out_class_data[:, 3] + lime_intercept\n",
    "inst_reg = lime_beta[2]*data_norm[inst_num, 2] + lime_beta[3]*data_norm[inst_num, 3] + lime_intercept"
   ]
  },
  {
   "cell_type": "code",
   "execution_count": 92,
   "metadata": {},
   "outputs": [
    {
     "data": {
      "image/png": "[encoded data removed]",
      "text/plain": [
       "<Figure size 720x216 with 1 Axes>"
      ]
     },
     "metadata": {
      "needs_background": "light"
     },
     "output_type": "display_data"
    }
   ],
   "source": [
    "plt.rcParams['figure.figsize'] = [10.0, 3.0]\n",
    "fig = plt.figure()\n",
    "ax = fig.add_subplot(1,1,1)\n",
    "\n",
    "ax.scatter(in_class_reg, np.zeros(len(in_class_reg))+1, marker='x', c='b', label='In class')\n",
    "ax.scatter(out_class_reg, np.zeros(len(out_class_reg)), marker='+', c='c', label='Out of class')\n",
    "ax.scatter(inst_reg, 1, marker='o', c='r', label='Instance')\n",
    "\n",
    "ticksy = ax.set_yticks([0, 1])\n",
    "labelsy = ax.set_yticklabels(['Out','In'])\n",
    "ax.set_xlabel('LIME Regression')\n",
    "plt.grid(b=True, which='both', color='0.85', linestyle='-')\n",
    "# plt.legend(loc='center left')"
   ]
  },
  {
   "cell_type": "code",
   "execution_count": null,
   "metadata": {},
   "outputs": [],
   "source": []
  }
 ],
 "metadata": {
  "kernelspec": {
   "display_name": "Python 3",
   "language": "python",
   "name": "python3"
  },
  "language_info": {
   "codemirror_mode": {
    "name": "ipython",
    "version": 3
   },
   "file_extension": ".py",
   "mimetype": "text/x-python",
   "name": "python",
   "nbconvert_exporter": "python",
   "pygments_lexer": "ipython3",
   "version": "3.7.1"
  }
 },
 "nbformat": 4,
 "nbformat_minor": 2
}
