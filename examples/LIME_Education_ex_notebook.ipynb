{
 "cells": [
  {
   "cell_type": "code",
   "execution_count": 6,
   "metadata": {},
   "outputs": [],
   "source": [
    "import sys\n",
    "sys.path.insert(0, '../LIMEaid/controller')\n",
    "sys.path.insert(0, '../LIMEaid/model')\n",
    "sys.path.insert(0, '../LIMEaid/view')\n",
    "import LIMEaid as la\n",
    "import LIMEdisplay as ld\n",
    "import matplotlib.pyplot as plt\n",
    "import numpy as np\n",
    "import pandas as pd\n",
    "import load_college_dataset as gcd\n",
    "import fit_sklearn_models as fsm\n",
    "from sklearn import preprocessing\n",
    "\n",
    "# Number of perturbed samples to be generated.\n",
    "n = 100000\n",
    "# Number of bins for the histograms of continous attributes.\n",
    "num_bins = 25"
   ]
  },
  {
   "cell_type": "code",
   "execution_count": null,
   "metadata": {},
   "outputs": [],
   "source": [
    "def lime_display(full_data, lime_beta, lime_int):\n",
    "    colors = ['k', 'b', 'm', 'c', 'g', 'y']\n",
    "    classes = np.unique(full_data[:, -1])\n",
    "    \n",
    "    significant_attributes = 0\n",
    "    for j in range(0, len(lime_beta)):\n",
    "        if(lime_beta[j] != 0):\n",
    "            significant_attributes = np.append(significant_attributes, j)\n",
    "    significant_attributes = significant_attributes[1:]\n",
    "        \n",
    "    if (len(significant_attributes) == 2):\n",
    "        # For visualization we separate perturbed samples classified\n",
    "        # by the ML model as in-class, from those classified\n",
    "        # out-of-class.\n",
    "        in_class_data = full_data[full_data[:, 16] ==\n",
    "                                  x_class]\n",
    "        out_class_data = full_data[full_data[:, 16] !=\n",
    "                                   x_class]\n",
    "\n",
    "        plt.rcParams['figure.figsize'] = [10.0, 10.0]\n",
    "        fig = plt.figure()\n",
    "        ax = fig.add_subplot(1, 1, 1)\n",
    "        ax.scatter(out_class_data[:, significant_attributes[0]],\n",
    "                   out_class_data[:, significant_attributes[1]],\n",
    "                   marker='+', c='c', label='Out of class')\n",
    "        ax.scatter(in_class_data[:, significant_attributes[0]],\n",
    "                   in_class_data[:, significant_attributes[1]],\n",
    "                   marker='x', c='b', label='In class')\n",
    "        ax.scatter(x[significant_attributes[0]],\n",
    "                   x[significant_attributes[1]], marker='o',\n",
    "                   c='r', label='Instance')\n",
    "        ticksx = ax.set_xticks([-2, -1.5, -1, -1.5, -0.5, 0, 0.5,\n",
    "                                1, 1.5, 2, 2.5])\n",
    "        ticksy = ax.set_yticks([-1, 0, 1, 2, 3, 4, 5, 6, 7])\n",
    "        plt.grid(b=True, which='both', color='0.85', linestyle='-')\n",
    "        ax.set_xlabel(features[significant_attributes[0]])\n",
    "        ax.set_ylabel(features[significant_attributes[1]])\n",
    "        plt.legend(loc='upper left')\n",
    "    \n",
    "    # Displaying regression values for perturbed samples.\n",
    "    plt.rcParams['figure.figsize'] = [5.0, 10.0]\n",
    "    fig = plt.figure()\n",
    "    ax = fig.add_subplot(1, 1, 1)\n",
    "\n",
    "    # Compute all LIME regression values for all perturbed samples\n",
    "    # and for the instance to be explained, and plot them.\n",
    "    for j in range(0, len(classes)):\n",
    "        class_reg = full_data[full_data[:, -1] == classes[j]]\n",
    "        class_reg = np.sum(class_reg[:, :-1] * lime_beta, axis=1) + lime_int\n",
    "        ax.scatter(np.zeros(len(class_reg)) + j, class_reg, marker='o',\n",
    "                   c=colors[j])\n",
    "    instance = sum(x * lime_beta) + lime_int\n",
    "    ax.scatter(x_class, instance, marker='o', c='r')\n",
    "    ticksx = ax.set_xticks([0, 1, 2])\n",
    "    labelsx = ax.set_xticklabels(['0', '1', '2'])\n",
    "    ax.set_ylabel('LIME Regression')\n",
    "    plt.grid(b=True, which='both', color='0.85', linestyle='-')"
   ]
  },
  {
   "cell_type": "code",
   "execution_count": 7,
   "metadata": {},
   "outputs": [
    {
     "name": "stdout",
     "output_type": "stream",
     "text": [
      "<_io.TextIOWrapper name='C:\\\\Users\\\\Castor18\\\\OneDrive\\\\MSDS_UW\\\\Data515_Spr19_Sw_Eng\\\\myproject\\\\LIMEaid\\\\LIMEaid\\\\model\\\\../data/Most-_Recent-_Cohorts-_Scorecard-_Elements.csv' mode='r' encoding='cp1252'>\n"
     ]
    }
   ],
   "source": [
    "college = gcd.load_college_dataset()\n",
    "features = list(college)[1:]\n",
    "salary_class = np.array(college.iloc[:, 0])\n",
    "college = np.array(college.iloc[:, 1:])"
   ]
  },
  {
   "cell_type": "code",
   "execution_count": 9,
   "metadata": {},
   "outputs": [
    {
     "name": "stdout",
     "output_type": "stream",
     "text": [
      "<_io.TextIOWrapper name='C:\\\\Users\\\\Castor18\\\\OneDrive\\\\MSDS_UW\\\\Data515_Spr19_Sw_Eng\\\\myproject\\\\LIMEaid\\\\LIMEaid\\\\model\\\\../data/Most-_Recent-_Cohorts-_Scorecard-_Elements.csv' mode='r' encoding='cp1252'>\n"
     ]
    }
   ],
   "source": [
    "clf = fsm.fit_multiclass_logistic_regression()"
   ]
  },
  {
   "cell_type": "code",
   "execution_count": 10,
   "metadata": {},
   "outputs": [],
   "source": [
    "perturbed_samples = la.lime_sample(n, False, college[:, 0], num_bins)\n",
    "for j in range(1, college.shape[1]):\n",
    "    array = college[:, j]\n",
    "    output = la.lime_sample(n, True, array, num_bins)\n",
    "    perturbed_samples = np.vstack((perturbed_samples, output))\n",
    "perturbed_samples = np.transpose(perturbed_samples)"
   ]
  },
  {
   "cell_type": "code",
   "execution_count": 11,
   "metadata": {},
   "outputs": [],
   "source": [
    "class_perturb_samples = clf.predict(perturbed_samples)"
   ]
  },
  {
   "cell_type": "code",
   "execution_count": 12,
   "metadata": {},
   "outputs": [],
   "source": [
    "college_norm = preprocessing.scale(college)\n",
    "# Selecting the instance to interpret.\n",
    "inst_num = np.round(np.random.uniform(0, college_norm.shape[0], 1))\n",
    "inst_num = inst_num[0].astype(int)\n",
    "# x is the selected instance, and x_class is the class assigned\n",
    "# by the decision tree. \n",
    "x = college_norm[inst_num, :]\n",
    "x_class = salary_class[inst_num]"
   ]
  },
  {
   "cell_type": "code",
   "execution_count": 13,
   "metadata": {},
   "outputs": [],
   "source": [
    "# We now fit the LIME linear model to get the coefficients and\n",
    "# intercept, as well as the weight of each random sample, \n",
    "# based on its L2 distance to the instance that is being\n",
    "# interpreted.\n",
    "lime_beta, lime_int, lime_weigh = la.lime_fit(x,\n",
    "                                              x_class,\n",
    "                                              perturbed_samples,\n",
    "                                              class_perturb_samples)"
   ]
  },
  {
   "cell_type": "code",
   "execution_count": 14,
   "metadata": {},
   "outputs": [
    {
     "name": "stdout",
     "output_type": "stream",
     "text": [
      "Instance to be interpreted:\n",
      "Feature:  HCM2 \tvalue:  0.0 \tnormalized value:  0.0\n",
      "Feature:  SATVR25 \tvalue:  550.2231404958678 \tnormalized value:  1.5745653658398342e-15\n",
      "Feature:  SATVR75 \tvalue:  656.6280991735537 \tnormalized value:  -1.7634723214101526e-15\n",
      "Feature:  SATMT25 \tvalue:  563.5409836065573 \tnormalized value:  0.0\n",
      "Feature:  SATMT75 \tvalue:  669.2049180327868 \tnormalized value:  0.0\n",
      "Feature:  SATWR25 \tvalue:  561.528735632184 \tnormalized value:  -1.725927392195095e-15\n",
      "Feature:  SATWR75 \tvalue:  664.6896551724138 \tnormalized value:  0.0\n",
      "Feature:  ACTCM25 \tvalue:  20.0 \tnormalized value:  -1.06845139325279\n",
      "Feature:  ACTCM75 \tvalue:  25.0 \tnormalized value:  -1.2065591743080313\n",
      "Feature:  ACTEN25 \tvalue:  19.0 \tnormalized value:  -1.130451496769876\n",
      "Feature:  ACTEN75 \tvalue:  24.0 \tnormalized value:  -1.5552295784204275\n",
      "Feature:  ACTMT25 \tvalue:  19.0 \tnormalized value:  -1.084944377456212\n",
      "Feature:  ACTMT75 \tvalue:  25.0 \tnormalized value:  -1.175276890809284\n",
      "Feature:  ACTWR25 \tvalue:  6.0 \tnormalized value:  -3.0669963252376053\n",
      "Feature:  ACTWR75 \tvalue:  8.0 \tnormalized value:  -2.147379332349983\n",
      "Feature:  PCIP01 \tvalue:  0.0137 \tnormalized value:  0.38016700236756384\n",
      "Classification:  0\n",
      "\n",
      "Significant coefficients from LIME adjusted linear model:\n",
      "Feature:  ACTCM25 \tCoefficient:  0.65104936127576\n",
      "Feature:  PCIP01 \tCoefficient:  0.03397083497243386\n",
      "Intercept:  0.5015273939261986\n"
     ]
    }
   ],
   "source": [
    "# Print output of LIME results.\n",
    "print(\"Instance to be interpreted:\")\n",
    "for j in range(0, len(lime_beta)):\n",
    "    print(\"Feature: \", features[j], \"\\tvalue: \",\n",
    "          college[inst_num, j], \"\\tnormalized value: \",\n",
    "          college_norm[inst_num, j])\n",
    "print(\"Classification: \", x_class)\n",
    "print(\"\\nSignificant coefficients from LIME adjusted\"\n",
    "      \" linear model:\")\n",
    "significant_attributes = 0\n",
    "for j in range(0, len(lime_beta)):\n",
    "    if(lime_beta[j] != 0):\n",
    "        significant_attributes = np.append(significant_attributes, j)\n",
    "        print(\"Feature: \", features[j],\n",
    "              \"\\tCoefficient: \", lime_beta[j])\n",
    "significant_attributes = significant_attributes[1:]\n",
    "print(\"Intercept: \", lime_int)"
   ]
  },
  {
   "cell_type": "code",
   "execution_count": 17,
   "metadata": {},
   "outputs": [
    {
     "data": {
      "image/png": "[encoded data removed]",
      "text/plain": [
       "<Figure size 720x720 with 1 Axes>"
      ]
     },
     "metadata": {
      "needs_background": "light"
     },
     "output_type": "display_data"
    },
    {
     "data": {
      "image/png": "[encoded data removed]",
      "text/plain": [
       "<Figure size 360x720 with 1 Axes>"
      ]
     },
     "metadata": {
      "needs_background": "light"
     },
     "output_type": "display_data"
    }
   ],
   "source": [
    "full_data = np.column_stack((perturbed_samples, class_perturb_samples))\n",
    "ld.lime_display(full_data, lime_beta, lime_int, x, x_class, features)"
   ]
  },
  {
   "cell_type": "code",
   "execution_count": null,
   "metadata": {},
   "outputs": [],
   "source": []
  }
 ],
 "metadata": {
  "kernelspec": {
   "display_name": "Python 3",
   "language": "python",
   "name": "python3"
  },
  "language_info": {
   "codemirror_mode": {
    "name": "ipython",
    "version": 3
   },
   "file_extension": ".py",
   "mimetype": "text/x-python",
   "name": "python",
   "nbconvert_exporter": "python",
   "pygments_lexer": "ipython3",
   "version": "3.7.1"
  }
 },
 "nbformat": 4,
 "nbformat_minor": 2
}
