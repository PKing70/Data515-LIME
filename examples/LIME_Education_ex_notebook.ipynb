{
 "cells": [
  {
   "cell_type": "markdown",
   "metadata": {},
   "source": [
    "# Predicting mid-career salary based on education data\n",
    "\n",
    "For this example we employ three datasets:\n",
    "\n",
    "- One containing data sourced form the Wall Street Journal that analyzes salaries by college, region and academic major.\n",
    "- A dataset compiled and shared through Kaggle, containing attributes related to many of the same colleges and universities as in the dataset above.\n",
    "- Data from the College Scorecard published by the U.S. Department of Education.\n",
    "\n",
    "Using this dataset we fit a multiclass logistic regression model that classifies students into likely salary brackets they will reach mid-career, depending on which school, major and other factors are applicable to each."
   ]
  },
  {
   "cell_type": "code",
   "execution_count": 11,
   "metadata": {},
   "outputs": [],
   "source": [
    "import sys\n",
    "sys.path.insert(0, '../LIMEaid/controller')\n",
    "sys.path.insert(0, '../LIMEaid/model')\n",
    "sys.path.insert(0, '../LIMEaid/view')\n",
    "import LIMEaid as la\n",
    "import LIMEdisplay as ld\n",
    "import matplotlib.pyplot as plt\n",
    "import numpy as np\n",
    "import pandas as pd\n",
    "import load_college_dataset as gcd\n",
    "import fit_sklearn_models as fsm\n",
    "from sklearn import preprocessing\n",
    "from sklearn import tree\n",
    "\n",
    "# Number of perturbed samples to be generated.\n",
    "n = 100000\n",
    "# Number of bins for the histograms of continous attributes.\n",
    "num_bins = 25"
   ]
  },
  {
   "cell_type": "markdown",
   "metadata": {},
   "source": [
    "The functions below merge and prepare the data, after uploading it, and leave it ready for us to fit the logistic regression model."
   ]
  },
  {
   "cell_type": "code",
   "execution_count": 2,
   "metadata": {},
   "outputs": [
    {
     "name": "stdout",
     "output_type": "stream",
     "text": [
      "<_io.TextIOWrapper name='C:\\\\Users\\\\Castor18\\\\OneDrive\\\\MSDS_UW\\\\Data515_Spr19_Sw_Eng\\\\myproject\\\\LIMEaid\\\\LIMEaid\\\\model\\\\../data/Most-_Recent-_Cohorts-_Scorecard-_Elements.csv' mode='r' encoding='cp1252'>\n"
     ]
    }
   ],
   "source": [
    "college = gcd.load_college_dataset()\n",
    "features = list(college)[1:]\n",
    "salary_class = np.array(college.iloc[:, 0])\n",
    "college = np.array(college.iloc[:, 1:])"
   ]
  },
  {
   "cell_type": "markdown",
   "metadata": {},
   "source": [
    "Next we fit the logistic regression"
   ]
  },
  {
   "cell_type": "code",
   "execution_count": 3,
   "metadata": {},
   "outputs": [
    {
     "name": "stdout",
     "output_type": "stream",
     "text": [
      "<_io.TextIOWrapper name='C:\\\\Users\\\\Castor18\\\\OneDrive\\\\MSDS_UW\\\\Data515_Spr19_Sw_Eng\\\\myproject\\\\LIMEaid\\\\LIMEaid\\\\model\\\\../data/Most-_Recent-_Cohorts-_Scorecard-_Elements.csv' mode='r' encoding='cp1252'>\n"
     ]
    }
   ],
   "source": [
    "clf = fsm.fit_multiclass_logistic_regression()"
   ]
  },
  {
   "cell_type": "markdown",
   "metadata": {},
   "source": [
    "## Interpreting the output of the Decision Tree using LIME.\n",
    "\n",
    "We now take the dataset, attributes only, and form them we generate n random samples with similar distributions in the values of each attribute."
   ]
  },
  {
   "cell_type": "code",
   "execution_count": 4,
   "metadata": {},
   "outputs": [],
   "source": [
    "perturbed_samples = la.lime_sample(n, False, college[:, 0], num_bins)\n",
    "for j in range(1, college.shape[1]):\n",
    "    array = college[:, j]\n",
    "    output = la.lime_sample(n, True, array, num_bins)\n",
    "    perturbed_samples = np.vstack((perturbed_samples, output))\n",
    "perturbed_samples = np.transpose(perturbed_samples)"
   ]
  },
  {
   "cell_type": "markdown",
   "metadata": {},
   "source": [
    "Once random samples with the right distributions for each attribute have been generated, we provide them as input to the Logistic Regression model we fitted earlier, and obtain the classification for each."
   ]
  },
  {
   "cell_type": "code",
   "execution_count": 5,
   "metadata": {},
   "outputs": [],
   "source": [
    "class_perturb_samples = clf.predict(perturbed_samples)"
   ]
  },
  {
   "cell_type": "markdown",
   "metadata": {},
   "source": [
    "We select a single instance from the dataset. This is the instance we will try to interpret using LIME."
   ]
  },
  {
   "cell_type": "code",
   "execution_count": 6,
   "metadata": {},
   "outputs": [],
   "source": [
    "college_norm = preprocessing.scale(college)\n",
    "# Selecting the instance to interpret.\n",
    "inst_num = np.round(np.random.uniform(0, college_norm.shape[0], 1))\n",
    "inst_num = inst_num[0].astype(int)\n",
    "# x is the selected instance, and x_class is the class assigned\n",
    "# by the decision tree. \n",
    "x = college_norm[inst_num, :]\n",
    "x_class = salary_class[inst_num]"
   ]
  },
  {
   "cell_type": "markdown",
   "metadata": {},
   "source": [
    "## Calling LIME function to get intepretation."
   ]
  },
  {
   "cell_type": "code",
   "execution_count": 7,
   "metadata": {},
   "outputs": [],
   "source": [
    "# We now fit the LIME linear model to get the coefficients and\n",
    "# intercept, as well as the weight of each random sample, \n",
    "# based on its L2 distance to the instance that is being\n",
    "# interpreted.\n",
    "lime_beta, lime_int, lime_weigh = la.lime_fit(x,\n",
    "                                              x_class,\n",
    "                                              perturbed_samples,\n",
    "                                              class_perturb_samples)"
   ]
  },
  {
   "cell_type": "markdown",
   "metadata": {},
   "source": [
    "## Intepreting the results\n",
    "\n",
    "Below we present the results obtained from the LIME linear regression model, and identify those attributes that played a significant role in the classification that was assigned to each instance by the Logistic Regression classifier. "
   ]
  },
  {
   "cell_type": "code",
   "execution_count": 8,
   "metadata": {},
   "outputs": [
    {
     "name": "stdout",
     "output_type": "stream",
     "text": [
      "Instance to be interpreted:\n",
      "Feature:  HCM2 \tvalue:  0.0 \tnormalized value:  0.0\n",
      "Feature:  SATVR25 \tvalue:  560.0 \tnormalized value:  0.13540973317935553\n",
      "Feature:  SATVR75 \tvalue:  710.0 \tnormalized value:  0.827887130425389\n",
      "Feature:  SATMT25 \tvalue:  570.0 \tnormalized value:  0.08611237111313061\n",
      "Feature:  SATMT75 \tvalue:  700.0 \tnormalized value:  0.4618112360717146\n",
      "Feature:  SATWR25 \tvalue:  561.528735632184 \tnormalized value:  -1.725927392195095e-15\n",
      "Feature:  SATWR75 \tvalue:  664.6896551724138 \tnormalized value:  0.0\n",
      "Feature:  ACTCM25 \tvalue:  26.0 \tnormalized value:  0.44782049699812626\n",
      "Feature:  ACTCM75 \tvalue:  32.0 \tnormalized value:  0.9689035793685704\n",
      "Feature:  ACTEN25 \tvalue:  26.0 \tnormalized value:  0.6796439160741956\n",
      "Feature:  ACTEN75 \tvalue:  34.0 \tnormalized value:  1.464374242224048\n",
      "Feature:  ACTMT25 \tvalue:  25.0 \tnormalized value:  0.5864564202466008\n",
      "Feature:  ACTMT75 \tvalue:  31.0 \tnormalized value:  0.8244479681796466\n",
      "Feature:  ACTWR25 \tvalue:  7.408163265306122 \tnormalized value:  -1.934463152455155e-15\n",
      "Feature:  ACTWR75 \tvalue:  8.959183673469388 \tnormalized value:  0.0\n",
      "Feature:  PCIP01 \tvalue:  0.0 \tnormalized value:  -0.3061614792206546\n",
      "Classification:  1\n",
      "\n",
      "Significant coefficients from LIME adjusted linear model:\n",
      "Feature:  ACTCM25 \tCoefficient:  0.7139387685302602\n",
      "Feature:  PCIP01 \tCoefficient:  0.013980416796853145\n",
      "Intercept:  0.4943654845813578\n"
     ]
    }
   ],
   "source": [
    "# Print output of LIME results.\n",
    "print(\"Instance to be interpreted:\")\n",
    "for j in range(0, len(lime_beta)):\n",
    "    print(\"Feature: \", features[j], \"\\tvalue: \",\n",
    "          college[inst_num, j], \"\\tnormalized value: \",\n",
    "          college_norm[inst_num, j])\n",
    "print(\"Classification: \", x_class)\n",
    "print(\"\\nSignificant coefficients from LIME adjusted\"\n",
    "      \" linear model:\")\n",
    "significant_attributes = 0\n",
    "for j in range(0, len(lime_beta)):\n",
    "    if(lime_beta[j] != 0):\n",
    "        significant_attributes = np.append(significant_attributes, j)\n",
    "        print(\"Feature: \", features[j],\n",
    "              \"\\tCoefficient: \", lime_beta[j])\n",
    "significant_attributes = significant_attributes[1:]\n",
    "print(\"Intercept: \", lime_int)"
   ]
  },
  {
   "cell_type": "markdown",
   "metadata": {},
   "source": [
    "If the number of significant attributes in the interpretation of a particular instance is equal to two, we plot the random samples and the instance that is being interpreted on a cathesian plane. In some cases, classes can be separated for the most part by looking at the two selected attributes. Note that those random samples that were classified differently from the instance we are interpreting are merged into a single out-of-class representation.\n",
    "\n",
    "Finally, we plot the output of the fitted LIME Linear Regression model for each sample, against its class, as yielded by the Logistic Regression model and see that, in most cases, the classes can be differentiated using this model only."
   ]
  },
  {
   "cell_type": "code",
   "execution_count": 9,
   "metadata": {},
   "outputs": [
    {
     "data": {
      "image/png": "[encoded data removed]",
      "text/plain": [
       "<Figure size 720x720 with 1 Axes>"
      ]
     },
     "metadata": {
      "needs_background": "light"
     },
     "output_type": "display_data"
    },
    {
     "data": {
      "image/png": "[encoded data removed]",
      "text/plain": [
       "<Figure size 360x720 with 1 Axes>"
      ]
     },
     "metadata": {
      "needs_background": "light"
     },
     "output_type": "display_data"
    }
   ],
   "source": [
    "full_data = np.column_stack((perturbed_samples, class_perturb_samples))\n",
    "ld.lime_display(full_data, lime_beta, lime_int, x, x_class, features)"
   ]
  },
  {
   "cell_type": "code",
   "execution_count": null,
   "metadata": {},
   "outputs": [],
   "source": []
  }
 ],
 "metadata": {
  "kernelspec": {
   "display_name": "Python 3",
   "language": "python",
   "name": "python3"
  },
  "language_info": {
   "codemirror_mode": {
    "name": "ipython",
    "version": 3
   },
   "file_extension": ".py",
   "mimetype": "text/x-python",
   "name": "python",
   "nbconvert_exporter": "python",
   "pygments_lexer": "ipython3",
   "version": "3.7.1"
  }
 },
 "nbformat": 4,
 "nbformat_minor": 2
}
