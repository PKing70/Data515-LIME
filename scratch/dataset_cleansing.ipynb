{
  "cells": [
    {
      "metadata": {
        "trusted": true
      },
      "cell_type": "code",
      "source": "import numpy as np\nimport pandas as pd",
      "execution_count": 1,
      "outputs": []
    },
    {
      "metadata": {
        "trusted": true
      },
      "cell_type": "code",
      "source": "scorecard = pd.read_csv('Most-Recent-Cohorts-Scorecard-Elements.csv')",
      "execution_count": 2,
      "outputs": []
    },
    {
      "metadata": {
        "trusted": true
      },
      "cell_type": "code",
      "source": "#scorecard.head()\n\nscorecard.shape",
      "execution_count": 3,
      "outputs": [
        {
          "output_type": "execute_result",
          "execution_count": 3,
          "data": {
            "text/plain": "(7175, 124)"
          },
          "metadata": {}
        }
      ]
    },
    {
      "metadata": {
        "trusted": true
      },
      "cell_type": "code",
      "source": "salaries = pd.read_csv('salaries-by-region.csv')",
      "execution_count": 4,
      "outputs": []
    },
    {
      "metadata": {
        "trusted": true
      },
      "cell_type": "code",
      "source": "#salaries.head()\nsalaries.shape",
      "execution_count": 5,
      "outputs": [
        {
          "output_type": "execute_result",
          "execution_count": 5,
          "data": {
            "text/plain": "(320, 8)"
          },
          "metadata": {}
        }
      ]
    },
    {
      "metadata": {
        "trusted": true
      },
      "cell_type": "code",
      "source": "scorecard.rename(columns={'INSTNM':'School Name'}, inplace=True)",
      "execution_count": 6,
      "outputs": []
    },
    {
      "metadata": {
        "trusted": true
      },
      "cell_type": "code",
      "source": "#plain inner join without doing any formatting on the join columns, just to see how many matches before doing any cleansing\nplainjoin = pd.merge(salaries,\n                 scorecard,\n                 on='School Name', \n                 how='inner')\n\nplainjoin.shape",
      "execution_count": 7,
      "outputs": [
        {
          "output_type": "execute_result",
          "execution_count": 7,
          "data": {
            "text/plain": "(148, 131)"
          },
          "metadata": {}
        }
      ]
    },
    {
      "metadata": {
        "trusted": true
      },
      "cell_type": "code",
      "source": "#formatting step 1: remove all characters within parenthesis\nsalaries['School Name Extract 1'] = salaries['School Name'].str.replace(r\"\\(.*\\)\",\"\")",
      "execution_count": 8,
      "outputs": []
    },
    {
      "metadata": {
        "trusted": true
      },
      "cell_type": "code",
      "source": "#formatting step 2: replace all commas with hyphens\nsalaries['School Name Extract 2'] = salaries['School Name Extract 1'].str.replace(r\",\",\"-\")",
      "execution_count": 9,
      "outputs": []
    },
    {
      "metadata": {
        "trusted": true
      },
      "cell_type": "code",
      "source": "#formatting step 3: replace all (zero or more spaces - hyphen - zero or more spaces) with hyphen (without spaces)\nsalaries['Formatted School Name'] = salaries['School Name Extract 2'].str.replace(r\"[\\s]*-[\\s]*\",\"-\")",
      "execution_count": 10,
      "outputs": []
    },
    {
      "metadata": {
        "trusted": true
      },
      "cell_type": "code",
      "source": "#rename the join column on the scorecard dataset also to do another join\nscorecard.rename(columns={'School Name':'Formatted School Name'}, inplace=True)",
      "execution_count": 11,
      "outputs": []
    },
    {
      "metadata": {
        "trusted": true
      },
      "cell_type": "code",
      "source": "#format the 'Mid-Career Median Salary' column\nsalaries['Mid-Career Median Salary'] = salaries['Mid-Career Median Salary'].str.replace(\"$\",\"\")\nsalaries['Mid-Career Median Salary'] = salaries['Mid-Career Median Salary'].str.replace(\",\",\"\")\nsalaries['Mid-Career Median Salary'] = salaries['Mid-Career Median Salary'].str.replace(\".00\",\"\")",
      "execution_count": 12,
      "outputs": []
    },
    {
      "metadata": {
        "trusted": true
      },
      "cell_type": "code",
      "source": "salaries['Salary'] = pd.to_numeric(salaries['Mid-Career Median Salary'])",
      "execution_count": 13,
      "outputs": []
    },
    {
      "metadata": {
        "trusted": true
      },
      "cell_type": "code",
      "source": "salaries['Salary']",
      "execution_count": 14,
      "outputs": [
        {
          "output_type": "execute_result",
          "execution_count": 14,
          "data": {
            "text/plain": "0      120\n1      120\n2      120\n3      110\n4      100\n5      100\n6      100\n7      100\n8      100\n9       99\n10      99\n11      96\n12      95\n13      90\n14      88\n15      80\n16      86\n17      85\n18      84\n19      84\n20      84\n21      82\n22      81\n23      80\n24      72\n25      71\n26      71\n27      67\n28     100\n29      97\n      ... \n290     82\n291     82\n292     81\n293     81\n294     80\n295     80\n296      0\n297     79\n298     78\n299     78\n300     78\n301     78\n302     77\n303     77\n304     76\n305     76\n306     76\n307     75\n308     74\n309     74\n310     70\n311     70\n312     72\n313     72\n314     72\n315     70\n316     69\n317     66\n318     63\n319     62\nName: Salary, dtype: int64"
          },
          "metadata": {}
        }
      ]
    },
    {
      "metadata": {
        "trusted": true
      },
      "cell_type": "code",
      "source": "#Create new column SalaryClass to make the Salary ranges into classes\nsalaries['SalaryClass'] = 100\nsalaries.loc[salaries['Salary'].between(0, 75, inclusive=False), 'SalaryClass'] = 0\nsalaries.loc[salaries['Salary'].between(75, 90, inclusive=True), 'SalaryClass'] = 1\nsalaries.loc[salaries['Salary'].between(90, 500, inclusive=False), 'SalaryClass'] = 2",
      "execution_count": 42,
      "outputs": []
    },
    {
      "metadata": {
        "trusted": true
      },
      "cell_type": "code",
      "source": "rowstodrop = salaries[ salaries['SalaryClass'] == 100 ].index\n \n# Delete these row indexes from dataFrame\nsalaries.drop(rowstodrop , inplace=True)",
      "execution_count": 44,
      "outputs": []
    },
    {
      "metadata": {
        "trusted": true
      },
      "cell_type": "code",
      "source": "salaries['SalaryClass'].value_counts()",
      "execution_count": 45,
      "outputs": [
        {
          "output_type": "execute_result",
          "execution_count": 45,
          "data": {
            "text/plain": "1    137\n0     97\n2     84\nName: SalaryClass, dtype: int64"
          },
          "metadata": {}
        }
      ]
    },
    {
      "metadata": {
        "trusted": true
      },
      "cell_type": "code",
      "source": "#join again using the formatted names and see how many matches now\nformattedjoin = pd.merge(salaries,\n                 scorecard,\n                 on='Formatted School Name', \n                 how='inner')\n\nformattedjoin.shape",
      "execution_count": 46,
      "outputs": [
        {
          "output_type": "execute_result",
          "execution_count": 46,
          "data": {
            "text/plain": "(170, 136)"
          },
          "metadata": {}
        }
      ]
    },
    {
      "metadata": {
        "trusted": true
      },
      "cell_type": "code",
      "source": "formattedjoin.head()",
      "execution_count": 47,
      "outputs": [
        {
          "output_type": "execute_result",
          "execution_count": 47,
          "data": {
            "text/html": "<div>\n<table border=\"1\" class=\"dataframe\">\n  <thead>\n    <tr style=\"text-align: right;\">\n      <th></th>\n      <th>School Name</th>\n      <th>Region</th>\n      <th>Starting Median Salary</th>\n      <th>Mid-Career Median Salary</th>\n      <th>Mid-Career 10th Percentile Salary</th>\n      <th>Mid-Career 25th Percentile Salary</th>\n      <th>Mid-Career 75th Percentile Salary</th>\n      <th>Mid-Career 90th Percentile Salary</th>\n      <th>School Name Extract 1</th>\n      <th>School Name Extract 2</th>\n      <th>...</th>\n      <th>PCTFLOAN</th>\n      <th>UG25ABV</th>\n      <th>MD_EARN_WNE_P10</th>\n      <th>GT_25K_P6</th>\n      <th>GT_28K_P6</th>\n      <th>GRAD_DEBT_MDN_SUPP</th>\n      <th>GRAD_DEBT_MDN10YR_SUPP</th>\n      <th>RPY_3YR_RT_SUPP</th>\n      <th>C150_L4_POOLED_SUPP</th>\n      <th>C150_4_POOLED_SUPP</th>\n    </tr>\n  </thead>\n  <tbody>\n    <tr>\n      <th>0</th>\n      <td>Stanford University</td>\n      <td>California</td>\n      <td>$70,400.00</td>\n      <td>120</td>\n      <td>$68,400.00</td>\n      <td>$93,100.00</td>\n      <td>$184,000.00</td>\n      <td>$257,000.00</td>\n      <td>Stanford University</td>\n      <td>Stanford University</td>\n      <td>...</td>\n      <td>0.1031</td>\n      <td>0.0119</td>\n      <td>94000</td>\n      <td>0.871</td>\n      <td>0.841</td>\n      <td>11446.5</td>\n      <td>121.687833161933</td>\n      <td>0.8992</td>\n      <td>NaN</td>\n      <td>0.9387</td>\n    </tr>\n    <tr>\n      <th>1</th>\n      <td>Harvey Mudd College</td>\n      <td>California</td>\n      <td>$71,800.00</td>\n      <td>120</td>\n      <td>NaN</td>\n      <td>$96,000.00</td>\n      <td>$180,000.00</td>\n      <td>NaN</td>\n      <td>Harvey Mudd College</td>\n      <td>Harvey Mudd College</td>\n      <td>...</td>\n      <td>0.3939</td>\n      <td>0.0000</td>\n      <td>88800</td>\n      <td>0.856</td>\n      <td>0.844</td>\n      <td>23500</td>\n      <td>249.828688184635</td>\n      <td>PrivacySuppressed</td>\n      <td>NaN</td>\n      <td>0.9252</td>\n    </tr>\n    <tr>\n      <th>2</th>\n      <td>University of California, Berkeley</td>\n      <td>California</td>\n      <td>$59,900.00</td>\n      <td>110</td>\n      <td>$59,500.00</td>\n      <td>$81,000.00</td>\n      <td>$149,000.00</td>\n      <td>$201,000.00</td>\n      <td>University of California, Berkeley</td>\n      <td>University of California- Berkeley</td>\n      <td>...</td>\n      <td>0.2600</td>\n      <td>0.0613</td>\n      <td>64700</td>\n      <td>0.755</td>\n      <td>0.747</td>\n      <td>13200</td>\n      <td>140.32930570371</td>\n      <td>0.8016838167</td>\n      <td>NaN</td>\n      <td>0.9165</td>\n    </tr>\n    <tr>\n      <th>3</th>\n      <td>Occidental College</td>\n      <td>California</td>\n      <td>$51,900.00</td>\n      <td>100</td>\n      <td>NaN</td>\n      <td>$54,800.00</td>\n      <td>$157,000.00</td>\n      <td>NaN</td>\n      <td>Occidental College</td>\n      <td>Occidental College</td>\n      <td>...</td>\n      <td>0.4275</td>\n      <td>0.0040</td>\n      <td>50600</td>\n      <td>0.677</td>\n      <td>0.682</td>\n      <td>23215</td>\n      <td>246.798850902396</td>\n      <td>0.8759541985</td>\n      <td>NaN</td>\n      <td>0.8416</td>\n    </tr>\n    <tr>\n      <th>4</th>\n      <td>Pomona College</td>\n      <td>California</td>\n      <td>$48,600.00</td>\n      <td>100</td>\n      <td>NaN</td>\n      <td>$63,300.00</td>\n      <td>$161,000.00</td>\n      <td>NaN</td>\n      <td>Pomona College</td>\n      <td>Pomona College</td>\n      <td>...</td>\n      <td>0.1443</td>\n      <td>0.0042</td>\n      <td>58100</td>\n      <td>0.639</td>\n      <td>0.671</td>\n      <td>13400</td>\n      <td>142.455507305281</td>\n      <td>0.8510638298</td>\n      <td>NaN</td>\n      <td>0.9569</td>\n    </tr>\n  </tbody>\n</table>\n<p>5 rows × 136 columns</p>\n</div>",
            "text/plain": "                          School Name      Region Starting Median Salary  \\\n0                 Stanford University  California             $70,400.00   \n1                 Harvey Mudd College  California             $71,800.00   \n2  University of California, Berkeley  California             $59,900.00   \n3                  Occidental College  California             $51,900.00   \n4                      Pomona College  California             $48,600.00   \n\n  Mid-Career Median Salary Mid-Career 10th Percentile Salary  \\\n0                      120                        $68,400.00   \n1                      120                               NaN   \n2                      110                        $59,500.00   \n3                      100                               NaN   \n4                      100                               NaN   \n\n  Mid-Career 25th Percentile Salary Mid-Career 75th Percentile Salary  \\\n0                        $93,100.00                       $184,000.00   \n1                        $96,000.00                       $180,000.00   \n2                        $81,000.00                       $149,000.00   \n3                        $54,800.00                       $157,000.00   \n4                        $63,300.00                       $161,000.00   \n\n  Mid-Career 90th Percentile Salary               School Name Extract 1  \\\n0                       $257,000.00                 Stanford University   \n1                               NaN                 Harvey Mudd College   \n2                       $201,000.00  University of California, Berkeley   \n3                               NaN                  Occidental College   \n4                               NaN                      Pomona College   \n\n                School Name Extract 2        ...         PCTFLOAN  UG25ABV  \\\n0                 Stanford University        ...           0.1031   0.0119   \n1                 Harvey Mudd College        ...           0.3939   0.0000   \n2  University of California- Berkeley        ...           0.2600   0.0613   \n3                  Occidental College        ...           0.4275   0.0040   \n4                      Pomona College        ...           0.1443   0.0042   \n\n   MD_EARN_WNE_P10  GT_25K_P6  GT_28K_P6  GRAD_DEBT_MDN_SUPP  \\\n0            94000      0.871      0.841             11446.5   \n1            88800      0.856      0.844               23500   \n2            64700      0.755      0.747               13200   \n3            50600      0.677      0.682               23215   \n4            58100      0.639      0.671               13400   \n\n  GRAD_DEBT_MDN10YR_SUPP    RPY_3YR_RT_SUPP C150_L4_POOLED_SUPP  \\\n0       121.687833161933             0.8992                 NaN   \n1       249.828688184635  PrivacySuppressed                 NaN   \n2        140.32930570371       0.8016838167                 NaN   \n3       246.798850902396       0.8759541985                 NaN   \n4       142.455507305281       0.8510638298                 NaN   \n\n  C150_4_POOLED_SUPP  \n0             0.9387  \n1             0.9252  \n2             0.9165  \n3             0.8416  \n4             0.9569  \n\n[5 rows x 136 columns]"
          },
          "metadata": {}
        }
      ]
    },
    {
      "metadata": {
        "trusted": true
      },
      "cell_type": "code",
      "source": "columnstokeep = ['SalaryClass','HCM2','PREDDEG','HIGHDEG','HBCU','PBI','MENONLY','WOMENONLY','SATVR25','SATVR75','SATMT25','SATMT75','SATWR25','SATWR75','SATVRMID','SATMTMID','SATWRMID','ACTCM25','ACTCM75','ACTEN25','ACTEN75','ACTMT25','ACTMT75','ACTWR25','ACTWR75','PCIP01','PCIP03','PCIP04','PCIP05','PCIP09','PCIP10','PCIP11','PCIP12','PCIP13','PCIP14','PCIP15','PCIP16','PCIP19','PCIP22','PCIP23','PCIP24','PCIP25','PCIP26','PCIP27','PCIP29','PCIP30','PCIP31','PCIP38','PCIP39','PCIP40','PCIP41','PCIP42','PCIP43','PCIP44','PCIP45','PCIP46','PCIP47','PCIP48','PCIP49','PCIP50','PCIP51','PCIP52','PCIP54','DISTANCEONLY','UGDS']",
      "execution_count": 48,
      "outputs": []
    },
    {
      "metadata": {
        "trusted": true
      },
      "cell_type": "code",
      "source": "finaldf = formattedjoin[columnstokeep]",
      "execution_count": 49,
      "outputs": []
    },
    {
      "metadata": {
        "trusted": true
      },
      "cell_type": "code",
      "source": "finaldf.shape",
      "execution_count": 50,
      "outputs": [
        {
          "output_type": "execute_result",
          "execution_count": 50,
          "data": {
            "text/plain": "(170, 65)"
          },
          "metadata": {}
        }
      ]
    },
    {
      "metadata": {
        "trusted": true
      },
      "cell_type": "code",
      "source": "finaldf['SalaryClass'].value_counts()",
      "execution_count": 51,
      "outputs": [
        {
          "output_type": "execute_result",
          "execution_count": 51,
          "data": {
            "text/plain": "1    68\n2    55\n0    47\nName: SalaryClass, dtype: int64"
          },
          "metadata": {}
        }
      ]
    },
    {
      "metadata": {
        "trusted": true
      },
      "cell_type": "code",
      "source": "",
      "execution_count": null,
      "outputs": []
    }
  ],
  "metadata": {
    "kernelspec": {
      "name": "python3",
      "display_name": "Python 3",
      "language": "python"
    },
    "language_info": {
      "mimetype": "text/x-python",
      "nbconvert_exporter": "python",
      "name": "python",
      "pygments_lexer": "ipython3",
      "version": "3.5.4",
      "file_extension": ".py",
      "codemirror_mode": {
        "version": 3,
        "name": "ipython"
      }
    }
  },
  "nbformat": 4,
  "nbformat_minor": 2
}