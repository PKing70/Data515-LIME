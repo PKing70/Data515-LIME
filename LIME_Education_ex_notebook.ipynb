{
 "cells": [
  {
   "cell_type": "code",
   "execution_count": 1,
   "metadata": {},
   "outputs": [],
   "source": [
    "#import sys, os\n",
    "#sys.path.append(os.getcwd())\n",
    "from LIMEaid.model import loadcollegedataset as gcd\n",
    "from LIMEaid.controller import fitsklearnmodels as fsm\n",
    "from LIMEaid.controller import LIMEaid as la\n",
    "from sklearn import preprocessing\n",
    "import matplotlib.pyplot as plt\n",
    "import numpy as np\n",
    "import pandas as pd\n",
    "\n",
    "# Number of perturbed samples to be generated.\n",
    "n = 100000\n",
    "# Number of bins for the histograms of continous attributes.\n",
    "num_bins = 25"
   ]
  },
  {
   "cell_type": "code",
   "execution_count": 2,
   "metadata": {},
   "outputs": [],
   "source": [
    "def lime_display(full_data, lime_beta, lime_int):\n",
    "    colors = ['k', 'b', 'm', 'c', 'g', 'y']\n",
    "    classes = np.unique(full_data[:, -1])\n",
    "    \n",
    "    significant_attributes = 0\n",
    "    for j in range(0, len(lime_beta)):\n",
    "        if(lime_beta[j] != 0):\n",
    "            significant_attributes = np.append(significant_attributes, j)\n",
    "    significant_attributes = significant_attributes[1:]\n",
    "        \n",
    "    if (len(significant_attributes) == 2):\n",
    "        # For visualization we separate perturbed samples classified\n",
    "        # by the ML model as in-class, from those classified\n",
    "        # out-of-class.\n",
    "        in_class_data = full_data[full_data[:, 16] ==\n",
    "                                  x_class]\n",
    "        out_class_data = full_data[full_data[:, 16] !=\n",
    "                                   x_class]\n",
    "\n",
    "        plt.rcParams['figure.figsize'] = [10.0, 10.0]\n",
    "        fig = plt.figure()\n",
    "        ax = fig.add_subplot(1, 1, 1)\n",
    "        ax.scatter(out_class_data[:, significant_attributes[0]],\n",
    "                   out_class_data[:, significant_attributes[1]],\n",
    "                   marker='+', c='c', label='Out of class')\n",
    "        ax.scatter(in_class_data[:, significant_attributes[0]],\n",
    "                   in_class_data[:, significant_attributes[1]],\n",
    "                   marker='x', c='b', label='In class')\n",
    "        ax.scatter(x[significant_attributes[0]],\n",
    "                   x[significant_attributes[1]], marker='o',\n",
    "                   c='r', label='Instance')\n",
    "        ticksx = ax.set_xticks([-2, -1.5, -1, -1.5, -0.5, 0, 0.5,\n",
    "                                1, 1.5, 2, 2.5])\n",
    "        ticksy = ax.set_yticks([-1, 0, 1, 2, 3, 4, 5, 6, 7])\n",
    "        plt.grid(b=True, which='both', color='0.85', linestyle='-')\n",
    "        ax.set_xlabel(features[significant_attributes[0]])\n",
    "        ax.set_ylabel(features[significant_attributes[1]])\n",
    "        plt.legend(loc='upper left')\n",
    "    \n",
    "    # Displaying regression values for perturbed samples.\n",
    "    plt.rcParams['figure.figsize'] = [5.0, 10.0]\n",
    "    fig = plt.figure()\n",
    "    ax = fig.add_subplot(1, 1, 1)\n",
    "\n",
    "    # Compute all LIME regression values for all perturbed samples\n",
    "    # and for the instance to be explained, and plot them.\n",
    "    for j in range(0, len(classes)):\n",
    "        class_reg = full_data[full_data[:, -1] == classes[j]]\n",
    "        class_reg = np.sum(class_reg[:, :-1] * lime_beta, axis=1) + lime_int\n",
    "        ax.scatter(np.zeros(len(class_reg)) + j, class_reg, marker='o',\n",
    "                   c=colors[j])\n",
    "    instance = sum(x * lime_beta) + lime_int\n",
    "    ax.scatter(x_class, instance, marker='o', c='r')\n",
    "    ticksx = ax.set_xticks([0, 1, 2])\n",
    "    labelsx = ax.set_xticklabels(['0', '1', '2'])\n",
    "    ax.set_ylabel('LIME Regression')\n",
    "    plt.grid(b=True, which='both', color='0.85', linestyle='-')"
   ]
  },
  {
   "cell_type": "code",
   "execution_count": 3,
   "metadata": {},
   "outputs": [
    {
     "name": "stdout",
     "output_type": "stream",
     "text": [
      "<_io.TextIOWrapper name='C:\\\\Users\\\\Castor18\\\\OneDrive\\\\MSDS_UW\\\\Data515_Spr19_Sw_Eng\\\\myproject\\\\LIMEaid\\\\LIMEaid\\\\model\\\\../data/Most-_Recent-_Cohorts-_Scorecard-_Elements.csv' mode='r' encoding='cp1252'>\n"
     ]
    }
   ],
   "source": [
    "college = gcd.loadcollegedataset()\n",
    "features = list(college)[1:]\n",
    "salary_class = np.array(college.iloc[:, 0])\n",
    "college = np.array(college.iloc[:, 1:])"
   ]
  },
  {
   "cell_type": "code",
   "execution_count": 4,
   "metadata": {},
   "outputs": [
    {
     "name": "stdout",
     "output_type": "stream",
     "text": [
      "<_io.TextIOWrapper name='C:\\\\Users\\\\Castor18\\\\OneDrive\\\\MSDS_UW\\\\Data515_Spr19_Sw_Eng\\\\myproject\\\\LIMEaid\\\\LIMEaid\\\\model\\\\../data/Most-_Recent-_Cohorts-_Scorecard-_Elements.csv' mode='r' encoding='cp1252'>\n"
     ]
    },
    {
     "name": "stderr",
     "output_type": "stream",
     "text": [
      "C:\\Users\\Castor18\\Anaconda3\\lib\\site-packages\\sklearn\\linear_model\\logistic.py:758: ConvergenceWarning: lbfgs failed to converge. Increase the number of iterations.\n",
      "  \"of iterations.\", ConvergenceWarning)\n",
      "C:\\Users\\Castor18\\Anaconda3\\lib\\site-packages\\sklearn\\linear_model\\logistic.py:758: ConvergenceWarning: lbfgs failed to converge. Increase the number of iterations.\n",
      "  \"of iterations.\", ConvergenceWarning)\n",
      "C:\\Users\\Castor18\\Anaconda3\\lib\\site-packages\\sklearn\\linear_model\\logistic.py:758: ConvergenceWarning: lbfgs failed to converge. Increase the number of iterations.\n",
      "  \"of iterations.\", ConvergenceWarning)\n",
      "C:\\Users\\Castor18\\Anaconda3\\lib\\site-packages\\sklearn\\linear_model\\logistic.py:758: ConvergenceWarning: lbfgs failed to converge. Increase the number of iterations.\n",
      "  \"of iterations.\", ConvergenceWarning)\n",
      "C:\\Users\\Castor18\\Anaconda3\\lib\\site-packages\\sklearn\\linear_model\\logistic.py:758: ConvergenceWarning: lbfgs failed to converge. Increase the number of iterations.\n",
      "  \"of iterations.\", ConvergenceWarning)\n",
      "C:\\Users\\Castor18\\Anaconda3\\lib\\site-packages\\sklearn\\linear_model\\logistic.py:758: ConvergenceWarning: lbfgs failed to converge. Increase the number of iterations.\n",
      "  \"of iterations.\", ConvergenceWarning)\n",
      "C:\\Users\\Castor18\\Anaconda3\\lib\\site-packages\\sklearn\\linear_model\\logistic.py:758: ConvergenceWarning: lbfgs failed to converge. Increase the number of iterations.\n",
      "  \"of iterations.\", ConvergenceWarning)\n",
      "C:\\Users\\Castor18\\Anaconda3\\lib\\site-packages\\sklearn\\linear_model\\logistic.py:758: ConvergenceWarning: lbfgs failed to converge. Increase the number of iterations.\n",
      "  \"of iterations.\", ConvergenceWarning)\n",
      "C:\\Users\\Castor18\\Anaconda3\\lib\\site-packages\\sklearn\\linear_model\\logistic.py:758: ConvergenceWarning: lbfgs failed to converge. Increase the number of iterations.\n",
      "  \"of iterations.\", ConvergenceWarning)\n",
      "C:\\Users\\Castor18\\Anaconda3\\lib\\site-packages\\sklearn\\linear_model\\logistic.py:758: ConvergenceWarning: lbfgs failed to converge. Increase the number of iterations.\n",
      "  \"of iterations.\", ConvergenceWarning)\n"
     ]
    }
   ],
   "source": [
    "clf = fsm.fitmulticlasslogisticregression()"
   ]
  },
  {
   "cell_type": "code",
   "execution_count": 5,
   "metadata": {},
   "outputs": [],
   "source": [
    "perturbed_samples = la.lime_sample(n, False, college[:, 0], num_bins)\n",
    "for j in range(1, college.shape[1]):\n",
    "    array = college[:, j]\n",
    "    output = la.lime_sample(n, True, array, num_bins)\n",
    "    perturbed_samples = np.vstack((perturbed_samples, output))\n",
    "perturbed_samples = np.transpose(perturbed_samples)"
   ]
  },
  {
   "cell_type": "code",
   "execution_count": 6,
   "metadata": {},
   "outputs": [],
   "source": [
    "class_perturb_samples = clf.predict(perturbed_samples)"
   ]
  },
  {
   "cell_type": "code",
   "execution_count": 7,
   "metadata": {},
   "outputs": [],
   "source": [
    "college_norm = preprocessing.scale(college)\n",
    "# Selecting the instance to interpret.\n",
    "inst_num = np.round(np.random.uniform(0, college_norm.shape[0], 1))\n",
    "inst_num = inst_num[0].astype(int)\n",
    "# x is the selected instance, and x_class is the class assigned\n",
    "# by the decision tree. \n",
    "x = college_norm[inst_num, :]\n",
    "x_class = salary_class[inst_num]"
   ]
  },
  {
   "cell_type": "code",
   "execution_count": 8,
   "metadata": {},
   "outputs": [
    {
     "name": "stderr",
     "output_type": "stream",
     "text": [
      "C:\\Users\\Castor18\\Anaconda3\\lib\\site-packages\\sklearn\\linear_model\\coordinate_descent.py:492: ConvergenceWarning: Objective did not converge. You might want to increase the number of iterations. Fitting data with very small alpha may cause precision problems.\n",
      "  ConvergenceWarning)\n",
      "C:\\Users\\Castor18\\Anaconda3\\lib\\site-packages\\sklearn\\linear_model\\coordinate_descent.py:492: ConvergenceWarning: Objective did not converge. You might want to increase the number of iterations. Fitting data with very small alpha may cause precision problems.\n",
      "  ConvergenceWarning)\n",
      "C:\\Users\\Castor18\\Anaconda3\\lib\\site-packages\\sklearn\\linear_model\\coordinate_descent.py:492: ConvergenceWarning: Objective did not converge. You might want to increase the number of iterations. Fitting data with very small alpha may cause precision problems.\n",
      "  ConvergenceWarning)\n",
      "C:\\Users\\Castor18\\Anaconda3\\lib\\site-packages\\sklearn\\linear_model\\coordinate_descent.py:492: ConvergenceWarning: Objective did not converge. You might want to increase the number of iterations. Fitting data with very small alpha may cause precision problems.\n",
      "  ConvergenceWarning)\n",
      "C:\\Users\\Castor18\\Anaconda3\\lib\\site-packages\\sklearn\\linear_model\\coordinate_descent.py:492: ConvergenceWarning: Objective did not converge. You might want to increase the number of iterations. Fitting data with very small alpha may cause precision problems.\n",
      "  ConvergenceWarning)\n",
      "C:\\Users\\Castor18\\Anaconda3\\lib\\site-packages\\sklearn\\linear_model\\coordinate_descent.py:492: ConvergenceWarning: Objective did not converge. You might want to increase the number of iterations. Fitting data with very small alpha may cause precision problems.\n",
      "  ConvergenceWarning)\n",
      "C:\\Users\\Castor18\\Anaconda3\\lib\\site-packages\\sklearn\\linear_model\\coordinate_descent.py:492: ConvergenceWarning: Objective did not converge. You might want to increase the number of iterations. Fitting data with very small alpha may cause precision problems.\n",
      "  ConvergenceWarning)\n"
     ]
    }
   ],
   "source": [
    "# We now fit the LIME linear model to get the coefficients and\n",
    "# intercept, as well as the weight of each random sample, \n",
    "# based on its L2 distance to the instance that is being\n",
    "# interpreted.\n",
    "lime_beta, lime_int, lime_weigh = la.lime_fit(x,\n",
    "                                              x_class,\n",
    "                                              perturbed_samples,\n",
    "                                              class_perturb_samples)"
   ]
  },
  {
   "cell_type": "code",
   "execution_count": 9,
   "metadata": {},
   "outputs": [
    {
     "name": "stdout",
     "output_type": "stream",
     "text": [
      "Instance to be interpreted:\n",
      "Feature:  HCM2 \tvalue:  0.0 \tnormalized value:  0.0\n",
      "Feature:  SATVR25 \tvalue:  660.0 \tnormalized value:  1.520412075926771\n",
      "Feature:  SATVR75 \tvalue:  730.0 \tnormalized value:  1.1381204620496448\n",
      "Feature:  SATMT25 \tvalue:  660.0 \tnormalized value:  1.2860030244407572\n",
      "Feature:  SATMT75 \tvalue:  730.0 \tnormalized value:  0.9116992115900733\n",
      "Feature:  SATWR25 \tvalue:  640.0 \tnormalized value:  1.191305056828449\n",
      "Feature:  SATWR75 \tvalue:  730.0 \tnormalized value:  1.1113861049863194\n",
      "Feature:  ACTCM25 \tvalue:  30.0 \tnormalized value:  1.4586684238320704\n",
      "Feature:  ACTCM75 \tvalue:  33.0 \tnormalized value:  1.2796839727509421\n",
      "Feature:  ACTEN25 \tvalue:  30.0 \tnormalized value:  1.7139841519850936\n",
      "Feature:  ACTEN75 \tvalue:  35.0 \tnormalized value:  1.7663346242884956\n",
      "Feature:  ACTMT25 \tvalue:  29.0 \tnormalized value:  1.7007236187151427\n",
      "Feature:  ACTMT75 \tvalue:  34.0 \tnormalized value:  1.824310397674112\n",
      "Feature:  ACTWR25 \tvalue:  7.408163265306122 \tnormalized value:  -1.934463152455155e-15\n",
      "Feature:  ACTWR75 \tvalue:  8.959183673469388 \tnormalized value:  0.0\n",
      "Feature:  PCIP01 \tvalue:  0.0 \tnormalized value:  -0.3061614792206546\n",
      "Classification:  2\n",
      "\n",
      "Significant coefficients from LIME adjusted linear model:\n",
      "Feature:  ACTCM25 \tCoefficient:  0.7113140867276243\n",
      "Feature:  PCIP01 \tCoefficient:  0.02747794698344784\n",
      "Intercept:  0.504398866140711\n"
     ]
    }
   ],
   "source": [
    "# Print output of LIME results.\n",
    "print(\"Instance to be interpreted:\")\n",
    "for j in range(0, len(lime_beta)):\n",
    "    print(\"Feature: \", features[j], \"\\tvalue: \",\n",
    "          college[inst_num, j], \"\\tnormalized value: \",\n",
    "          college_norm[inst_num, j])\n",
    "print(\"Classification: \", x_class)\n",
    "print(\"\\nSignificant coefficients from LIME adjusted\"\n",
    "      \" linear model:\")\n",
    "significant_attributes = 0\n",
    "for j in range(0, len(lime_beta)):\n",
    "    if(lime_beta[j] != 0):\n",
    "        significant_attributes = np.append(significant_attributes, j)\n",
    "        print(\"Feature: \", features[j],\n",
    "              \"\\tCoefficient: \", lime_beta[j])\n",
    "significant_attributes = significant_attributes[1:]\n",
    "print(\"Intercept: \", lime_int)"
   ]
  },
  {
   "cell_type": "code",
   "execution_count": 10,
   "metadata": {},
   "outputs": [
    {
     "data": {
      "image/png": "[encoded data removed]",
      "text/plain": [
       "<Figure size 720x720 with 1 Axes>"
      ]
     },
     "metadata": {
      "needs_background": "light"
     },
     "output_type": "display_data"
    },
    {
     "data": {
      "image/png": "[encoded data removed]",
      "text/plain": [
       "<Figure size 360x720 with 1 Axes>"
      ]
     },
     "metadata": {
      "needs_background": "light"
     },
     "output_type": "display_data"
    }
   ],
   "source": [
    "full_data = np.column_stack((perturbed_samples, class_perturb_samples))\n",
    "lime_display(full_data, lime_beta, lime_int)"
   ]
  },
  {
   "cell_type": "code",
   "execution_count": null,
   "metadata": {},
   "outputs": [],
   "source": []
  }
 ],
 "metadata": {
  "kernelspec": {
   "display_name": "Python 3",
   "language": "python",
   "name": "python3"
  },
  "language_info": {
   "codemirror_mode": {
    "name": "ipython",
    "version": 3
   },
   "file_extension": ".py",
   "mimetype": "text/x-python",
   "name": "python",
   "nbconvert_exporter": "python",
   "pygments_lexer": "ipython3",
   "version": "3.7.1"
  }
 },
 "nbformat": 4,
 "nbformat_minor": 2
}
